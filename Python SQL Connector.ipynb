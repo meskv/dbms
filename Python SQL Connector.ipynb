{
 "cells": [
  {
   "cell_type": "code",
   "execution_count": 1,
   "id": "151771c1",
   "metadata": {},
   "outputs": [],
   "source": [
    "import mysql.connector as connection"
   ]
  },
  {
   "cell_type": "code",
   "execution_count": 2,
   "id": "582fd7af",
   "metadata": {},
   "outputs": [
    {
     "name": "stdout",
     "output_type": "stream",
     "text": [
      "succesfully connected\n"
     ]
    }
   ],
   "source": [
    "mydb = connection.connect(\n",
    "    host=\"localhost\",\n",
    "    user=\"root\",  #Your Username\n",
    "    password=\"PASSWORD\", #Your Password\n",
    "    database=\"pysql\" #Your Database Name, If you don't have any database, create one\n",
    ")\n",
    "\n",
    "if mydb.is_connected():\n",
    "   print(\"succesfully connected\")\n",
    "else:\n",
    "   print(\"not connected\")    \n",
    "\n",
    "mycursor = mydb.cursor()"
   ]
  },
  {
   "cell_type": "code",
   "execution_count": 3,
   "id": "8a4a4b26",
   "metadata": {},
   "outputs": [
    {
     "name": "stdout",
     "output_type": "stream",
     "text": [
      "('eno', b'varchar(5)', 'YES', '', None, '')\n",
      "('ename', b'varchar(50)', 'YES', '', None, '')\n",
      "('salary', b'int', 'YES', '', None, '')\n"
     ]
    }
   ],
   "source": [
    "mycursor.execute(\"drop table if exists empl\")\n",
    "mycursor.execute(\"create table empl(eno varchar(5),ename varchar(50),salary int)\")\n",
    "mycursor.execute(\"describe empl\")\n",
    "for i in mycursor:\n",
    "   print(i)"
   ]
  },
  {
   "cell_type": "code",
   "execution_count": 4,
   "id": "88c72709",
   "metadata": {},
   "outputs": [],
   "source": [
    "sql_query = \"insert into empl values('e1','Akash',1000),('e2','Dinesh',2000),('e3','Ashwin',3000)\"\n",
    "mycursor.execute(sql_query)\n",
    "mycursor.execute(\"commit\")"
   ]
  },
  {
   "cell_type": "code",
   "execution_count": 5,
   "id": "6a59f244",
   "metadata": {},
   "outputs": [],
   "source": [
    "# Updating\n",
    "mycursor.execute(\"update empl set salary = 3000 where eno = 'e1'\")\n",
    "mycursor.execute(\"commit\")"
   ]
  },
  {
   "cell_type": "code",
   "execution_count": 6,
   "id": "60a9626b",
   "metadata": {},
   "outputs": [],
   "source": [
    "# Delete Record\n",
    "mycursor.execute(\"delete from empl where eno='e1'\")\n",
    "mycursor.execute(\"commit\")"
   ]
  },
  {
   "cell_type": "code",
   "execution_count": 7,
   "id": "03d5ea43",
   "metadata": {},
   "outputs": [
    {
     "name": "stdout",
     "output_type": "stream",
     "text": [
      "('e2', 'Dinesh', 2000)\n",
      "('e3', 'Ashwin', 3000)\n"
     ]
    }
   ],
   "source": [
    "mycursor.execute(\"select * from empl\")\n",
    "for i in mycursor:\n",
    "   print(i)"
   ]
  },
  {
   "cell_type": "code",
   "execution_count": 8,
   "id": "125ecff4",
   "metadata": {},
   "outputs": [
    {
     "name": "stdout",
     "output_type": "stream",
     "text": [
      "('empl',)\n"
     ]
    }
   ],
   "source": [
    "mycursor.execute(\"show tables\")\n",
    "for i in mycursor:\n",
    "   print(i)"
   ]
  },
  {
   "cell_type": "code",
   "execution_count": 9,
   "id": "664ba9fa",
   "metadata": {},
   "outputs": [],
   "source": [
    "mycursor.execute(\"drop table empl\")\n",
    "for i in mycursor:\n",
    "   print(i)"
   ]
  },
  {
   "cell_type": "code",
   "execution_count": 11,
   "id": "cbd3d8c9",
   "metadata": {},
   "outputs": [
    {
     "name": "stdout",
     "output_type": "stream",
     "text": [
      "('eno', b'varchar(5)', 'YES', '', None, '')\n",
      "('ename', b'varchar(50)', 'YES', '', None, '')\n",
      "('salary', b'int', 'YES', '', None, '')\n"
     ]
    }
   ],
   "source": [
    "# insert values in table\n",
    "mycursor.execute(\"drop table if exists empl\")\n",
    "mycursor.execute(\"create table empl(eno varchar(5),ename varchar(50),salary int)\")\n",
    "mycursor.execute(\"describe empl\")\n",
    "for i in mycursor:\n",
    "   print(i)\n",
    "\n",
    "sql_query = \"insert into empl values('e1','Akash',1000),('e2','Dinesh',2000),('e3','Ashwin',3000)\"\n",
    "mycursor.execute(sql_query)\n",
    "mycursor.execute(\"commit\")"
   ]
  },
  {
   "cell_type": "code",
   "execution_count": 12,
   "id": "f783a317",
   "metadata": {},
   "outputs": [
    {
     "name": "stdout",
     "output_type": "stream",
     "text": [
      "enter eno: e1\n",
      "select * from empl where eno = 'e1'\n",
      "('e1', 'Akash', 1000)\n"
     ]
    }
   ],
   "source": [
    "# display all records of empl\n",
    "\n",
    "eno = input(\"enter eno: \") # User Input\n",
    "\n",
    "query = \"select * from empl \" + \"where eno = '\" + eno + \"'\"\n",
    "print(query)\n",
    "mycursor.execute(query)\n",
    "for i in mycursor:\n",
    "   print(i)"
   ]
  },
  {
   "cell_type": "code",
   "execution_count": 13,
   "id": "3fa01d84",
   "metadata": {},
   "outputs": [],
   "source": [
    "# Set Column ‘eno’ is the Primary key\n",
    "mycursor.execute(\"ALTER TABLE empl ADD PRIMARY KEY (eno)\")\n",
    "mycursor.execute(\"describe empl\")"
   ]
  },
  {
   "cell_type": "code",
   "execution_count": 15,
   "id": "b696d988",
   "metadata": {},
   "outputs": [
    {
     "ename": "InternalError",
     "evalue": "Unread result found",
     "output_type": "error",
     "traceback": [
      "\u001b[1;31m---------------------------------------------------------------------------\u001b[0m",
      "\u001b[1;31mInternalError\u001b[0m                             Traceback (most recent call last)",
      "Cell \u001b[1;32mIn[15], line 4\u001b[0m\n\u001b[0;32m      1\u001b[0m \u001b[38;5;66;03m# to display all the records of empl table. \u001b[39;00m\n\u001b[0;32m      2\u001b[0m \u001b[38;5;66;03m# Use “fetchall()” method of the cursor object.\u001b[39;00m\n\u001b[1;32m----> 4\u001b[0m \u001b[43mmycursor\u001b[49m\u001b[38;5;241;43m.\u001b[39;49m\u001b[43mexecute\u001b[49m\u001b[43m(\u001b[49m\u001b[38;5;124;43m\"\u001b[39;49m\u001b[38;5;124;43mselect * from empl\u001b[39;49m\u001b[38;5;124;43m\"\u001b[39;49m\u001b[43m)\u001b[49m\n\u001b[0;32m      5\u001b[0m result \u001b[38;5;241m=\u001b[39m mycursor\u001b[38;5;241m.\u001b[39mfetchall()\n\u001b[0;32m      6\u001b[0m \u001b[38;5;28;01mfor\u001b[39;00m i \u001b[38;5;129;01min\u001b[39;00m result:         \n",
      "File \u001b[1;32m~\\anaconda3\\lib\\site-packages\\mysql\\connector\\cursor_cext.py:243\u001b[0m, in \u001b[0;36mCMySQLCursor.execute\u001b[1;34m(self, operation, params, multi)\u001b[0m\n\u001b[0;32m    241\u001b[0m \u001b[38;5;28;01mif\u001b[39;00m \u001b[38;5;129;01mnot\u001b[39;00m \u001b[38;5;28mself\u001b[39m\u001b[38;5;241m.\u001b[39m_cnx \u001b[38;5;129;01mor\u001b[39;00m \u001b[38;5;28mself\u001b[39m\u001b[38;5;241m.\u001b[39m_cnx\u001b[38;5;241m.\u001b[39mis_closed():\n\u001b[0;32m    242\u001b[0m     \u001b[38;5;28;01mraise\u001b[39;00m errors\u001b[38;5;241m.\u001b[39mProgrammingError(\u001b[38;5;124m\"\u001b[39m\u001b[38;5;124mCursor is not connected\u001b[39m\u001b[38;5;124m\"\u001b[39m, \u001b[38;5;241m2055\u001b[39m)\n\u001b[1;32m--> 243\u001b[0m \u001b[38;5;28;43mself\u001b[39;49m\u001b[38;5;241;43m.\u001b[39;49m\u001b[43m_cnx\u001b[49m\u001b[38;5;241;43m.\u001b[39;49m\u001b[43mhandle_unread_result\u001b[49m\u001b[43m(\u001b[49m\u001b[43m)\u001b[49m\n\u001b[0;32m    245\u001b[0m stmt \u001b[38;5;241m=\u001b[39m \u001b[38;5;124m'\u001b[39m\u001b[38;5;124m'\u001b[39m\n\u001b[0;32m    246\u001b[0m \u001b[38;5;28mself\u001b[39m\u001b[38;5;241m.\u001b[39mreset()\n",
      "File \u001b[1;32m~\\anaconda3\\lib\\site-packages\\mysql\\connector\\connection_cext.py:785\u001b[0m, in \u001b[0;36mCMySQLConnection.handle_unread_result\u001b[1;34m(self, prepared)\u001b[0m\n\u001b[0;32m    783\u001b[0m     \u001b[38;5;28mself\u001b[39m\u001b[38;5;241m.\u001b[39mconsume_results()\n\u001b[0;32m    784\u001b[0m \u001b[38;5;28;01melif\u001b[39;00m unread_result:\n\u001b[1;32m--> 785\u001b[0m     \u001b[38;5;28;01mraise\u001b[39;00m errors\u001b[38;5;241m.\u001b[39mInternalError(\u001b[38;5;124m\"\u001b[39m\u001b[38;5;124mUnread result found\u001b[39m\u001b[38;5;124m\"\u001b[39m)\n",
      "\u001b[1;31mInternalError\u001b[0m: Unread result found"
     ]
    }
   ],
   "source": [
    "# to display all the records of empl table. \n",
    "# Use “fetchall()” method of the cursor object.\n",
    "\n",
    "mycursor.execute(\"select * from empl\")\n",
    "result = mycursor.fetchall()\n",
    "for i in result:         \n",
    "    print(i)       "
   ]
  },
  {
   "cell_type": "code",
   "execution_count": null,
   "id": "96d487f0",
   "metadata": {},
   "outputs": [],
   "source": []
  }
 ],
 "metadata": {
  "kernelspec": {
   "display_name": "Python 3.9.5 64-bit",
   "language": "python",
   "name": "python3"
  },
  "language_info": {
   "codemirror_mode": {
    "name": "ipython",
    "version": 3
   },
   "file_extension": ".py",
   "mimetype": "text/x-python",
   "name": "python",
   "nbconvert_exporter": "python",
   "pygments_lexer": "ipython3",
   "version": "3.9.5"
  },
  "vscode": {
   "interpreter": {
    "hash": "8bc39c0633f7c572b88815573439cd90046bf616fa1fd76cccdd16572e7473e5"
   }
  }
 },
 "nbformat": 4,
 "nbformat_minor": 5
}
